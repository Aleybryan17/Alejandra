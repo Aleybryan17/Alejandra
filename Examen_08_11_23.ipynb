{
  "nbformat": 4,
  "nbformat_minor": 0,
  "metadata": {
    "colab": {
      "provenance": [],
      "include_colab_link": true
    },
    "kernelspec": {
      "name": "python3",
      "display_name": "Python 3"
    },
    "language_info": {
      "name": "python"
    }
  },
  "cells": [
    {
      "cell_type": "markdown",
      "metadata": {
        "id": "view-in-github",
        "colab_type": "text"
      },
      "source": [
        "<a href=\"https://colab.research.google.com/github/Aleybryan17/Alejandra/blob/main/Examen_08_11_23.ipynb\" target=\"_parent\"><img src=\"https://colab.research.google.com/assets/colab-badge.svg\" alt=\"Open In Colab\"/></a>"
      ]
    },
    {
      "cell_type": "markdown",
      "source": [
        "NumPy Exercises for Data Analysis"
      ],
      "metadata": {
        "id": "hSsi2_-klame"
      }
    },
    {
      "cell_type": "code",
      "source": [
        "import numpy as np\n",
        "\n",
        "print(\"NumPy version:\", np.__version__)\n",
        "pass"
      ],
      "metadata": {
        "id": "kuK4TNepldem",
        "outputId": "4f427ec8-e229-4b65-8470-3ce6dbc3ef0a",
        "colab": {
          "base_uri": "https://localhost:8080/"
        }
      },
      "execution_count": null,
      "outputs": [
        {
          "output_type": "stream",
          "name": "stdout",
          "text": [
            "NumPy version: 1.23.5\n"
          ]
        }
      ]
    },
    {
      "cell_type": "code",
      "source": [
        "arr = np.arange(10)\n",
        "\n",
        "print(arr)\n",
        "pass"
      ],
      "metadata": {
        "id": "hbYX-oMBlvS-",
        "outputId": "19748134-085d-4147-c780-346af3129fdb",
        "colab": {
          "base_uri": "https://localhost:8080/"
        }
      },
      "execution_count": null,
      "outputs": [
        {
          "output_type": "stream",
          "name": "stdout",
          "text": [
            "[0 1 2 3 4 5 6 7 8 9]\n"
          ]
        }
      ]
    },
    {
      "cell_type": "code",
      "source": [
        "vector_aleatorio = np.random.rand(10)\n",
        "\n",
        "print(\"Vector aleatorio original:\")\n",
        "print(vector_aleatorio)\n",
        "\n",
        "indice_maximo = np.argmax(vector_aleatorio)\n",
        "\n",
        "vector_aleatorio[indice_maximo] = 0\n",
        "\n",
        "print(\"Vector aleatorio con el valor máximo reemplazado por 0:\")\n",
        "print(vector_aleatorio)\n",
        "pass"
      ],
      "metadata": {
        "id": "HfsNmdvrwqsO",
        "outputId": "20ba6daa-6720-4ced-dff1-5da95d19f734",
        "colab": {
          "base_uri": "https://localhost:8080/"
        }
      },
      "execution_count": null,
      "outputs": [
        {
          "output_type": "stream",
          "name": "stdout",
          "text": [
            "Vector aleatorio original:\n",
            "[0.91049419 0.61476308 0.11706474 0.45798901 0.64872209 0.87167276\n",
            " 0.32587944 0.54192888 0.95101649 0.30607855]\n",
            "Vector aleatorio con el valor máximo reemplazado por 0:\n",
            "[0.91049419 0.61476308 0.11706474 0.45798901 0.64872209 0.87167276\n",
            " 0.32587944 0.54192888 0.         0.30607855]\n"
          ]
        }
      ]
    },
    {
      "cell_type": "code",
      "source": [
        "\n",
        "matriz = np.array([[1, 2, 3, 4, 5], [6, 7, 8, 9, 10]])\n",
        "\n",
        "numero = matriz[1, 2]\n",
        "\n",
        "print(\"El número 8 en la matriz es:\", numero)\n",
        "pass"
      ],
      "metadata": {
        "id": "a9T-W3uUoqcE",
        "outputId": "5775f729-efc4-4f75-803e-d3c723040941",
        "colab": {
          "base_uri": "https://localhost:8080/"
        }
      },
      "execution_count": null,
      "outputs": [
        {
          "output_type": "stream",
          "name": "stdout",
          "text": [
            "El número 8 en la matriz es: 8\n"
          ]
        }
      ]
    },
    {
      "cell_type": "code",
      "source": [
        "arr = np.array([1, 2, 3, 4, 5, 6, 7])\n",
        "\n",
        "subset = arr[2:5]\n",
        "\n",
        "print(\"Los numeros [3, 4, 5] en la matriz son:\", subset)\n",
        "pass"
      ],
      "metadata": {
        "id": "PqvPijs8o2ub",
        "outputId": "f90ef101-8d87-4712-dcd1-6b150bb001f0",
        "colab": {
          "base_uri": "https://localhost:8080/"
        }
      },
      "execution_count": null,
      "outputs": [
        {
          "output_type": "stream",
          "name": "stdout",
          "text": [
            "Los numeros [3, 4, 5] en la matriz son: [3 4 5]\n"
          ]
        }
      ]
    },
    {
      "cell_type": "code",
      "source": [
        "matriz = np.array([1, 2, 3, 4, 5, 6, 7])\n",
        "\n",
        "numeros = matriz[-4:]\n",
        "\n",
        "print(\"Los últimos 4 números en la matriz son:\", numeros)\n",
        "pass"
      ],
      "metadata": {
        "id": "H5iUCizHpk0L",
        "outputId": "445a6ced-0861-4abf-de02-8463f1f211a4",
        "colab": {
          "base_uri": "https://localhost:8080/"
        }
      },
      "execution_count": null,
      "outputs": [
        {
          "output_type": "stream",
          "name": "stdout",
          "text": [
            "Los últimos 4 números en la matriz son: [4 5 6 7]\n"
          ]
        }
      ]
    },
    {
      "cell_type": "code",
      "source": [
        "matriz = np.full((3, 3), True, dtype=bool)\n",
        "\n",
        "print(matriz)\n",
        "pass"
      ],
      "metadata": {
        "id": "C9nBztXhl9NA",
        "outputId": "8232f3c6-4a24-438d-f3b3-a05541f99d56",
        "colab": {
          "base_uri": "https://localhost:8080/"
        }
      },
      "execution_count": null,
      "outputs": [
        {
          "output_type": "stream",
          "name": "stdout",
          "text": [
            "[[ True  True  True]\n",
            " [ True  True  True]\n",
            " [ True  True  True]]\n"
          ]
        }
      ]
    },
    {
      "cell_type": "code",
      "source": [
        "arr = np.array([1, 2, 3, 4, 5, 6, 7, 8, 9])\n",
        "\n",
        "numeros_impares = arr[arr % 2 != 0]\n",
        "\n",
        "print(\"Números impares en la matriz arr:\", numeros_impares)\n",
        "pass"
      ],
      "metadata": {
        "id": "W18lqbBwmIhw",
        "outputId": "ef62d2b8-811e-4de5-a94d-ac311e78b611",
        "colab": {
          "base_uri": "https://localhost:8080/"
        }
      },
      "execution_count": null,
      "outputs": [
        {
          "output_type": "stream",
          "name": "stdout",
          "text": [
            "Números impares en la matriz arr: [1 3 5 7 9]\n"
          ]
        }
      ]
    },
    {
      "cell_type": "code",
      "source": [
        "vector = np.arange(10, 50)\n",
        "\n",
        "print(vector)\n",
        "pass\n"
      ],
      "metadata": {
        "id": "hA9iXCAwr55v",
        "outputId": "1f6bcb9e-d04a-47fc-aa67-62d0fd42c462",
        "colab": {
          "base_uri": "https://localhost:8080/"
        }
      },
      "execution_count": null,
      "outputs": [
        {
          "output_type": "stream",
          "name": "stdout",
          "text": [
            "[10 11 12 13 14 15 16 17 18 19 20 21 22 23 24 25 26 27 28 29 30 31 32 33\n",
            " 34 35 36 37 38 39 40 41 42 43 44 45 46 47 48 49]\n"
          ]
        }
      ]
    },
    {
      "cell_type": "code",
      "source": [
        "vector = [1, 2, 3, 4, 5]\n",
        "\n",
        "vector_invertido = vector[::-1]\n",
        "\n",
        "print(\"Vector original:\", vector)\n",
        "print(\"Vector invertido:\", vector_invertido)\n",
        "pass"
      ],
      "metadata": {
        "id": "R-_IjeHyr83q",
        "outputId": "1d47ebb3-fc15-4d6e-f8bb-a5c46a7a196c",
        "colab": {
          "base_uri": "https://localhost:8080/"
        }
      },
      "execution_count": null,
      "outputs": [
        {
          "output_type": "stream",
          "name": "stdout",
          "text": [
            "Vector original: [1, 2, 3, 4, 5]\n",
            "Vector invertido: [5, 4, 3, 2, 1]\n"
          ]
        }
      ]
    },
    {
      "cell_type": "code",
      "source": [
        "matriz = np.random.randint(1, 101, (10, 10))\n",
        "\n",
        "minimo_valor = np.min(matriz)\n",
        "maximo_valor = np.max(matriz)\n",
        "\n",
        "print(\"Matriz aleatoria de 10x10:\")\n",
        "print(matriz)\n",
        "print(\"Valor mínimo en la matriz:\", minimo_valor)\n",
        "print(\"Valor máximo en la matriz:\", maximo_valor)\n",
        "pass"
      ],
      "metadata": {
        "id": "rEWwl_weuq3B",
        "outputId": "7ffbedca-89e9-4b66-c524-83b95af04143",
        "colab": {
          "base_uri": "https://localhost:8080/"
        }
      },
      "execution_count": null,
      "outputs": [
        {
          "output_type": "stream",
          "name": "stdout",
          "text": [
            "Matriz aleatoria de 10x10:\n",
            "[[ 46  40  57  42  89  54  21 100  45  55]\n",
            " [  1  22  34  14  48   6  50  45  94   9]\n",
            " [ 46  86  39  97  50  58  93  29  21  52]\n",
            " [ 51  97   6  75  83  72  48  85  51  10]\n",
            " [  2  72  61  13  74  85  71  21  75  48]\n",
            " [ 51  98  62  16  64  28  77  74   8  50]\n",
            " [ 29  58  79  99  69   5   8   4  64  23]\n",
            " [ 56  62   7  42  99  46  55  32  64  46]\n",
            " [ 46  41  44   2  23  86  48  37  99  60]\n",
            " [ 63  74  40  37   8  18  57  92  73  76]]\n",
            "Valor mínimo en la matriz: 1\n",
            "Valor máximo en la matriz: 100\n"
          ]
        }
      ]
    },
    {
      "cell_type": "code",
      "source": [
        "random_array = np.random.rand(3, 3, 3)\n",
        "\n",
        "print(random_array)\n",
        "pass"
      ],
      "metadata": {
        "id": "KFy17KsvvSql",
        "outputId": "3d21dfdc-00a2-4b03-952d-3f818575402e",
        "colab": {
          "base_uri": "https://localhost:8080/"
        }
      },
      "execution_count": null,
      "outputs": [
        {
          "output_type": "stream",
          "name": "stdout",
          "text": [
            "[[[0.90365329 0.46827901 0.03829225]\n",
            "  [0.18450993 0.9105149  0.59478493]\n",
            "  [0.82078259 0.37756179 0.59193711]]\n",
            "\n",
            " [[0.79866331 0.47264072 0.94452695]\n",
            "  [0.43626372 0.47375033 0.41302918]\n",
            "  [0.12140628 0.77076951 0.24154251]]\n",
            "\n",
            " [[0.5604782  0.10899003 0.89544748]\n",
            "  [0.37482084 0.65840535 0.24188793]\n",
            "  [0.08199378 0.94855051 0.21343329]]]\n"
          ]
        }
      ]
    },
    {
      "cell_type": "code",
      "source": [
        "import numpy as np\n",
        "arr = np.array([1, 2, 3, 4, 5, 6, 7, 8, 9])\n",
        "\n",
        "arr[arr % 2 != 0] = -1\n",
        "\n",
        "print(\"Arreglo con números impares reemplazados por -1:\", arr)\n",
        "pass"
      ],
      "metadata": {
        "id": "X7ol3alqmbNa",
        "colab": {
          "base_uri": "https://localhost:8080/"
        },
        "outputId": "2401a1a5-d6e5-428e-d77e-5f24ec0a9150"
      },
      "execution_count": null,
      "outputs": [
        {
          "output_type": "stream",
          "name": "stdout",
          "text": [
            "Arreglo con números impares reemplazados por -1: [-1  2 -1  4 -1  6 -1  8 -1]\n"
          ]
        }
      ]
    },
    {
      "cell_type": "code",
      "source": [
        "import numpy as np\n",
        "\n",
        "float_array = np.array([1.0, 2.5, 3.7, 4.2, 5.9])\n",
        "\n",
        "print(float_array)\n",
        "pass"
      ],
      "metadata": {
        "id": "GwdXYn9HqYTL",
        "colab": {
          "base_uri": "https://localhost:8080/"
        },
        "outputId": "50769d23-2584-4684-baad-b5d55781d57e"
      },
      "execution_count": null,
      "outputs": [
        {
          "output_type": "stream",
          "name": "stdout",
          "text": [
            "[1.  2.5 3.7 4.2 5.9]\n"
          ]
        }
      ]
    },
    {
      "cell_type": "code",
      "source": [
        "import numpy as np\n",
        "matriz_1d = np.array([1, 2, 3, 4, 5, 6, 7, 8])\n",
        "\n",
        "matriz_2d = matriz_1d.reshape(2, -1)\n",
        "\n",
        "print(matriz_2d)\n",
        "pass"
      ],
      "metadata": {
        "id": "LvcL1lUYoPjN",
        "colab": {
          "base_uri": "https://localhost:8080/"
        },
        "outputId": "8e6e11bd-7330-463e-957d-04504825c3c3"
      },
      "execution_count": 2,
      "outputs": [
        {
          "output_type": "stream",
          "name": "stdout",
          "text": [
            "[[1 2 3 4]\n",
            " [5 6 7 8]]\n"
          ]
        }
      ]
    },
    {
      "cell_type": "code",
      "source": [
        "import numpy as np\n",
        "\n",
        "Z1 = np.random.randint(0, 10, 10)\n",
        "Z2 = np.random.randint(0, 10, 10)\n",
        "\n",
        "valores_comunes = np.intersect1d(Z1, Z2)\n",
        "\n",
        "print(\"Matriz 1:\", Z1)\n",
        "print(\"Matriz 2:\", Z2)\n",
        "print(\"Valores comunes:\", valores_comunes)\n",
        "pass"
      ],
      "metadata": {
        "id": "VbzMDKQvv0DX",
        "colab": {
          "base_uri": "https://localhost:8080/"
        },
        "outputId": "91f8402f-4794-41b8-d267-2d9ff5253ae5"
      },
      "execution_count": 3,
      "outputs": [
        {
          "output_type": "stream",
          "name": "stdout",
          "text": [
            "Matriz 1: [1 8 9 5 9 7 6 0 2 8]\n",
            "Matriz 2: [4 1 5 3 1 0 3 7 1 0]\n",
            "Valores comunes: [0 1 5 7]\n"
          ]
        }
      ]
    },
    {
      "cell_type": "code",
      "source": [
        "import numpy as np\n",
        "\n",
        "A = np.random.randint(0, 2, 5)\n",
        "B = np.random.randint(0, 2, 5)\n",
        "\n",
        "son_iguales = np.array_equal(A, B)\n",
        "\n",
        "print(\"Matriz A:\", A)\n",
        "print(\"Matriz B:\", B)\n",
        "\n",
        "if son_iguales:\n",
        "    print(\"Las matrices son iguales.\")\n",
        "else:\n",
        "    print(\"Las matrices no son iguales.\")\n",
        "\n",
        "pass"
      ],
      "metadata": {
        "id": "RWWspnDAwWGV",
        "colab": {
          "base_uri": "https://localhost:8080/"
        },
        "outputId": "66b4a636-843e-43b4-80e2-a091d6149949"
      },
      "execution_count": 4,
      "outputs": [
        {
          "output_type": "stream",
          "name": "stdout",
          "text": [
            "Matriz A: [1 1 0 0 0]\n",
            "Matriz B: [0 0 0 0 0]\n",
            "Las matrices no son iguales.\n"
          ]
        }
      ]
    },
    {
      "cell_type": "code",
      "source": [
        "import numpy as np\n",
        "\n",
        "A = np.random.randint(0, 2, 5)\n",
        "B = np.random.randint(0, 2, 5)\n",
        "\n",
        "resultado = np.vstack((A, B))\n",
        "\n",
        "print(\"Matriz A:\")\n",
        "print(A)\n",
        "print(\"\\nMatriz B:\")\n",
        "print(B)\n",
        "print(\"\\nMatrices apiladas verticalmente:\")\n",
        "print(resultado)\n",
        "pass"
      ],
      "metadata": {
        "id": "SW3KvPXhoeie",
        "colab": {
          "base_uri": "https://localhost:8080/"
        },
        "outputId": "7cb7790c-e7bb-46aa-bdaa-9ab56f2081f0"
      },
      "execution_count": 6,
      "outputs": [
        {
          "output_type": "stream",
          "name": "stdout",
          "text": [
            "Matriz A:\n",
            "[0 1 0 1 0]\n",
            "\n",
            "Matriz B:\n",
            "[0 0 1 1 0]\n",
            "\n",
            "Matrices apiladas verticalmente:\n",
            "[[0 1 0 1 0]\n",
            " [0 0 1 1 0]]\n"
          ]
        }
      ]
    },
    {
      "cell_type": "code",
      "source": [
        "import numpy as np\n",
        "\n",
        "A = np.random.randint(0, 2, 5)\n",
        "B = np.random.randint(0, 2, 5)\n",
        "\n",
        "resultado = np.hstack((A, B))\n",
        "\n",
        "print(\"Matriz A:\")\n",
        "print(A)\n",
        "print(\"\\nMatriz B:\")\n",
        "print(B)\n",
        "print(\"\\nMatrices apiladas horizontalmente:\")\n",
        "print(resultado)\n",
        "pass"
      ],
      "metadata": {
        "id": "6wVOpIT9omwe",
        "colab": {
          "base_uri": "https://localhost:8080/"
        },
        "outputId": "cc7bb3d0-49f0-4f74-df26-3a56a53baf3c"
      },
      "execution_count": 7,
      "outputs": [
        {
          "output_type": "stream",
          "name": "stdout",
          "text": [
            "Matriz A:\n",
            "[1 1 1 0 0]\n",
            "\n",
            "Matriz B:\n",
            "[1 0 1 1 1]\n",
            "\n",
            "Matrices apiladas horizontalmente:\n",
            "[1 1 1 0 0 1 0 1 1 1]\n"
          ]
        }
      ]
    },
    {
      "cell_type": "code",
      "source": [
        "import numpy as np\n",
        "\n",
        "tmp = np.arange(15)\n",
        "\n",
        "elementos_entre_5_y_10 = tmp[(tmp >= 5) & (tmp <= 10)]\n",
        "\n",
        "print(\"Matriz tmp:\")\n",
        "print(tmp)\n",
        "print(\"\\nElementos entre 5 y 10:\")\n",
        "print(elementos_entre_5_y_10)\n",
        "\n",
        "# pass"
      ],
      "metadata": {
        "id": "L_7vMkGOo0gX",
        "colab": {
          "base_uri": "https://localhost:8080/"
        },
        "outputId": "5111fcca-2de2-414e-a86a-590716859317"
      },
      "execution_count": 9,
      "outputs": [
        {
          "output_type": "stream",
          "name": "stdout",
          "text": [
            "Matriz tmp:\n",
            "[ 0  1  2  3  4  5  6  7  8  9 10 11 12 13 14]\n",
            "\n",
            "Elementos entre 5 y 10:\n",
            "[ 5  6  7  8  9 10]\n"
          ]
        }
      ]
    },
    {
      "cell_type": "code",
      "source": [
        "import numpy as np\n",
        "\n",
        "def maxx(x, y):\n",
        "    \"\"\"Get the maximum of two items\"\"\"\n",
        "    if x >= y:\n",
        "        return x\n",
        "    else:\n",
        "        return y\n",
        "\n",
        "\n",
        "vectorized_maxx = np.vectorize(maxx)\n",
        "\n",
        "\n",
        "a = np.array([5, 7, 9, 8, 6, 4, 5])\n",
        "b = np.array([6, 3, 4, 8, 9, 7, 1])\n",
        "\n",
        "result = vectorized_maxx(a, b)\n",
        "\n",
        "\n",
        "print(result)\n",
        "\n"
      ],
      "metadata": {
        "colab": {
          "base_uri": "https://localhost:8080/"
        },
        "id": "FVZz6ZY0p9ya",
        "outputId": "8ea8bc8a-025c-4a39-a002-3bde256c820a"
      },
      "execution_count": 12,
      "outputs": [
        {
          "output_type": "stream",
          "name": "stdout",
          "text": [
            "[6 7 9 8 9 7 5]\n"
          ]
        }
      ]
    },
    {
      "cell_type": "code",
      "source": [
        "import numpy as np\n",
        "\n",
        "arr = np.arange(9).reshape(3, 3)\n",
        "print(\"Matriz original:\")\n",
        "print(arr)\n",
        "\n",
        "arr[:, [1, 2]] = arr[:, [2, 1]]\n",
        "\n",
        "print(\"\\nMatriz después de intercambiar las columnas 1 y 2:\")\n",
        "print(arr)\n",
        "pass\n"
      ],
      "metadata": {
        "colab": {
          "base_uri": "https://localhost:8080/"
        },
        "outputId": "cd434fad-d2a8-4b57-c159-78aa858aa669",
        "id": "8vIzM5e8ql6i"
      },
      "execution_count": 14,
      "outputs": [
        {
          "output_type": "stream",
          "name": "stdout",
          "text": [
            "Matriz original:\n",
            "[[0 1 2]\n",
            " [3 4 5]\n",
            " [6 7 8]]\n",
            "\n",
            "Matriz después de intercambiar las columnas 1 y 2:\n",
            "[[0 2 1]\n",
            " [3 5 4]\n",
            " [6 8 7]]\n"
          ]
        }
      ]
    },
    {
      "cell_type": "code",
      "source": [
        "import numpy as np\n",
        "\n",
        "matriz_aleatoria = np.random.uniform(5, 10, size=(5, 3))\n",
        "\n",
        "print(matriz_aleatoria)"
      ],
      "metadata": {
        "id": "FOXX5b17rY7E",
        "colab": {
          "base_uri": "https://localhost:8080/"
        },
        "outputId": "2887cbbf-4182-456c-e0ba-b51847e21c8c"
      },
      "execution_count": 16,
      "outputs": [
        {
          "output_type": "stream",
          "name": "stdout",
          "text": [
            "[[7.72989122 5.69632698 6.15817952]\n",
            " [7.6381323  6.26631899 8.1161195 ]\n",
            " [7.78176323 5.53886398 9.79597051]\n",
            " [7.99433958 7.8579453  5.20604944]\n",
            " [7.45022678 9.95749317 7.73605251]]\n"
          ]
        }
      ]
    }
  ]
}